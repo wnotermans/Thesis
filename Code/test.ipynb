{
 "cells": [
  {
   "cell_type": "code",
   "execution_count": 1,
   "id": "1d447b9b-8a77-45ef-94df-dae054a4cac5",
   "metadata": {},
   "outputs": [],
   "source": [
    "import dask\n",
    "import pandas as pd\n",
    "import dask.dataframe as dd\n",
    "from dask.distributed import Client\n",
    "import chrono\n",
    "\n",
    "client = Client(n_workers=4)\n",
    "client"
   ]
  },
  {
   "cell_type": "code",
   "execution_count": null,
   "id": "54a9666e",
   "metadata": {},
   "outputs": [],
   "source": [
    "%%time\n",
    "# df = pd.read_csv(\"../Data/ES Continuous Contract.txt\")\n",
    "# df = pd.read_parquet(\"../Data/ESCC.parquet\")\n",
    "# df[[\"date\",\"time\"]] = df[\"datetime\"].str.split(\" \",n=1,expand=True)\n",
    "# df = df.drop(columns=\"datetime\")\n",
    "# for col in df:\n",
    "#     df[col] = df[col].astype(\"category\")\n",
    "# print(df.dtypes)\n",
    "# df.memory_usage(index=True,deep=True).sum()\n",
    "# df[\"real body\"] = df.apply(lambda x: chrono.real_body(x.open,x.close),axis=1)\n",
    "df.head()\n",
    "# ddf = pd.read_parquet(\"../Data/ES\",index=\"datetime\")\n",
    "# ddf = pd.read_parquet(\"../Data/ES\")\n",
    "# ddf[\"index\"] = 1\n",
    "# ddf[\"index\"] = ddf[\"index\"].cumsum() - 1\n",
    "# ddf.head()\n",
    "# ddf[\"unix\"] = ddf.index.map(chrono.makeunix,meta=\"float\")\n",
    "# ddf[\"timediff\"] = (ddf[\"unix\"] - ddf[\"unix\"].shift(1))/60\n",
    "# jumps = ddf[\"index\"].where(ddf[\"timediff\"]>1) > 0\n",
    "# ddf[\"cumtimediff\"] = ddf[\"timediff\"].cumsum()\n",
    "# interval = 2\n",
    "# ddf[\"aggregate\"] = (ddf[\"unix\"] - ddf[\"unix\"].shift(interval))/60 == interval\n",
    "# Openmask = ddf[\"cumtimediff\"].where(ddf[\"cumtimediff\"]%interval==0) > 0\n",
    "# Openmask = Openmask.to_dask_array() | jumps.to_dask_array()\n",
    "# Openmask = dd.from_dask_array(Openmask,index=ddf.index)\n",
    "# Open = ddf[\"open\"].where(Openmask).dropna()\n",
    "# For open/close: a correspondence between index and datetime is necessary\n",
    "# interval = 2\n",
    "\n",
    "# High = ddf[\"high\"].loc[::-1].rolling(interval).max()[::-1][list(range(0,len(ddf)-interval,interval))+[len(ddf)-interval]]\n",
    "# High.compute()\n",
    "# Low = ddf[\"low\"].loc[::-1].rolling(interval).min()[::-1][list(range(0,len(ddf)-interval,interval))+[len(ddf)-interval]]\n",
    "# Vol = ddf[\"volume\"].loc[::-1].rolling(interval).sum()[::-1][list(range(0,len(ddf)-interval,interval))+[len(ddf)-interval]]"
   ]
  }
 ],
 "metadata": {
  "kernelspec": {
   "display_name": "Python 3",
   "language": "python",
   "name": "python3"
  },
  "language_info": {
   "codemirror_mode": {
    "name": "ipython",
    "version": 3
   },
   "file_extension": ".py",
   "mimetype": "text/x-python",
   "name": "python",
   "nbconvert_exporter": "python",
   "pygments_lexer": "ipython3",
   "version": "3.12.4"
  }
 },
 "nbformat": 4,
 "nbformat_minor": 5
}

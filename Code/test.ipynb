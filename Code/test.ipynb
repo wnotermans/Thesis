{
 "cells": [
  {
   "cell_type": "code",
   "execution_count": 1,
   "id": "1d447b9b-8a77-45ef-94df-dae054a4cac5",
   "metadata": {},
   "outputs": [],
   "source": [
    "import mplfinance as mpf\n",
    "import pandas as pd\n",
    "import numpy as np\n",
    "import candlestick_functions as cf\n",
    "import patterns as pat\n",
    "import time"
   ]
  },
  {
   "cell_type": "code",
   "execution_count": null,
   "id": "755203f7",
   "metadata": {},
   "outputs": [],
   "source": [
    "print(\"Reading and handling data\", end=\"\\r\")\n",
    "t = time.time()\n",
    "df = pd.read_parquet(\"../Data/ESCC.parquet\")  # read data\n",
    "df[\"datetime\"] = pd.to_datetime(df[\"datetime\"])  # parse datetime\n",
    "df = df.set_index(\"datetime\")  # set datetime as index for mplfinance\n",
    "print(f\"Reading and handling data done in {round(time.time()-t,1)}s\")\n",
    "\n",
    "print(\"Calculating moving average\", end=\"\\r\")\n",
    "t = time.time()\n",
    "df[\"5_MA\"] = df[\"close\"].rolling(5).mean()\n",
    "print(f\"Calculating moving average done in {round(time.time()-t,1)}s\")"
   ]
  },
  {
   "cell_type": "code",
   "execution_count": null,
   "id": "54a9666e",
   "metadata": {},
   "outputs": [],
   "source": [
    "%%timeit\n",
    "print(\"Calculating trend\", end=\"\\r\")\n",
    "t = time.time()\n",
    "df[\"5_MA_trend\"] = (\n",
    "    df[\"5_MA\"]\n",
    "    .rolling(7)\n",
    "    .apply(\n",
    "        cf.trend,\n",
    "        raw=True,\n",
    "        engine=\"numba\",\n",
    "    )\n",
    ")\n",
    "print(f\"Calculated trend in {round(time.time()-t,1)}s\")"
   ]
  }
 ],
 "metadata": {
  "kernelspec": {
   "display_name": "Python 3",
   "language": "python",
   "name": "python3"
  },
  "language_info": {
   "codemirror_mode": {
    "name": "ipython",
    "version": 3
   },
   "file_extension": ".py",
   "mimetype": "text/x-python",
   "name": "python",
   "nbconvert_exporter": "python",
   "pygments_lexer": "ipython3",
   "version": "3.12.4"
  }
 },
 "nbformat": 4,
 "nbformat_minor": 5
}
